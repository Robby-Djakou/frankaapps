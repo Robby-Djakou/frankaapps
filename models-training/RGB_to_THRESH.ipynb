{
 "cells": [
  {
   "cell_type": "code",
   "execution_count": 11,
   "id": "492c8cfe",
   "metadata": {},
   "outputs": [],
   "source": [
    "# Import required library\n",
    "import os\n",
    "import cv2\n",
    "import glob"
   ]
  },
  {
   "cell_type": "code",
   "execution_count": 12,
   "id": "bbff8208",
   "metadata": {},
   "outputs": [],
   "source": [
    "# Specification of the path of colour images (circle stone and cross stone)\n",
    "CIRCLE_TRAIN_DIR = os.path.join('data', 'images', 'train', 'circle')\n",
    "NOUGH_TRAIN_DIR = os.path.join('data', 'images', 'train', 'nough')\n",
    "\n",
    "CIRCLE_TEST_DIR = os.path.join('data', 'images', 'test', 'circle')\n",
    "NOUGH_TEST_DIR = os.path.join('data', 'images', 'test', 'nough')"
   ]
  },
  {
   "cell_type": "code",
   "execution_count": 13,
   "id": "329b96a7",
   "metadata": {},
   "outputs": [],
   "source": [
    "A = [x for x in sorted(os.listdir(CIRCLE_TRAIN_DIR)) if x[-4:] == '.jpg'] # array of circles symbols in the training folder"
   ]
  },
  {
   "cell_type": "code",
   "execution_count": 14,
   "id": "930e4e75",
   "metadata": {},
   "outputs": [],
   "source": [
    "B = [x for x in sorted(os.listdir(NOUGH_TRAIN_DIR)) if x[-4:] == '.jpg'] # array of crosses symbols in the training folder"
   ]
  },
  {
   "cell_type": "code",
   "execution_count": 15,
   "id": "c0826701",
   "metadata": {},
   "outputs": [],
   "source": [
    "C = [x for x in sorted(os.listdir(CIRCLE_TEST_DIR)) if x[-4:] == '.jpg'] # array of circles symbols in the test folder"
   ]
  },
  {
   "cell_type": "code",
   "execution_count": 16,
   "id": "13b92d02",
   "metadata": {},
   "outputs": [],
   "source": [
    "D = [x for x in sorted(os.listdir(NOUGH_TEST_DIR)) if x[-4:] == '.jpg'] # array of crosses symbols in the test folder"
   ]
  },
  {
   "cell_type": "code",
   "execution_count": 17,
   "id": "5ad133d1",
   "metadata": {},
   "outputs": [],
   "source": [
    "# Convert colour images to binary images, change the resolution to (32x32) and write the results in the same folder (circles symbols in the training folder).\n",
    "for i, filename in enumerate(A):\n",
    "    im = cv2.imread(os.path.join(CIRCLE_TRAIN_DIR, filename), cv2.IMREAD_UNCHANGED)\n",
    "    im_gray = cv2.cvtColor(im, cv2.COLOR_BGR2GRAY)\n",
    "    _, im_thresh = cv2.threshold(\n",
    "        im_gray, 170, 255, cv2.THRESH_BINARY_INV)\n",
    "    im_thresh = cv2.resize(im_thresh, (32, 32))\n",
    "    cv2.imwrite(os.path.join(CIRCLE_TRAIN_DIR, filename), im_thresh)"
   ]
  },
  {
   "cell_type": "code",
   "execution_count": 18,
   "id": "b5ec5318",
   "metadata": {},
   "outputs": [],
   "source": [
    "# Convert colour images into binary images, change the resolution to (32x32) and write the results in the same folder (crosses symbols in the training folder).\n",
    "for i, filename in enumerate(B):\n",
    "    im = cv2.imread(os.path.join(NOUGH_TRAIN_DIR, filename), cv2.IMREAD_UNCHANGED)\n",
    "    im_gray = cv2.cvtColor(im, cv2.COLOR_BGR2GRAY)\n",
    "    _, im_thresh = cv2.threshold(\n",
    "        im_gray, 170, 255, cv2.THRESH_BINARY_INV)\n",
    "    im_thresh = cv2.resize(im_thresh, (32, 32))\n",
    "    cv2.imwrite(os.path.join(NOUGH_TRAIN_DIR, filename), im_thresh)"
   ]
  },
  {
   "cell_type": "code",
   "execution_count": 19,
   "id": "56c94461",
   "metadata": {},
   "outputs": [],
   "source": [
    "# Convert colour images into binary images, change the resolution to (32x32) and write the results in the same folder (circles symbols in the test folder).\n",
    "for i, filename in enumerate(C):\n",
    "    im = cv2.imread(os.path.join(CIRCLE_TEST_DIR, filename), cv2.IMREAD_UNCHANGED)\n",
    "    im_gray = cv2.cvtColor(im, cv2.COLOR_BGR2GRAY)\n",
    "    _, im_thresh = cv2.threshold(\n",
    "        im_gray, 170, 255, cv2.THRESH_BINARY_INV)\n",
    "    im_thresh = cv2.resize(im_thresh, (32, 32))\n",
    "    cv2.imwrite(os.path.join(CIRCLE_TEST_DIR, filename), im_thresh)"
   ]
  },
  {
   "cell_type": "code",
   "execution_count": 20,
   "id": "1144a93e",
   "metadata": {},
   "outputs": [],
   "source": [
    "# Convert colour images into binary images, change the resolution to (32x32) and write the results in the same folder (crosses symbols in the test folder).\n",
    "for i, filename in enumerate(D):\n",
    "    im = cv2.imread(os.path.join(NOUGH_TEST_DIR, filename), cv2.IMREAD_UNCHANGED)\n",
    "    im_gray = cv2.cvtColor(im, cv2.COLOR_BGR2GRAY)\n",
    "    _, im_thresh = cv2.threshold(\n",
    "        im_gray, 170, 255, cv2.THRESH_BINARY_INV)\n",
    "    im_thresh = cv2.resize(im_thresh, (32, 32))\n",
    "    cv2.imwrite(os.path.join(NOUGH_TEST_DIR, filename), im_thresh)"
   ]
  }
 ],
 "metadata": {
  "kernelspec": {
   "display_name": "Python 3.10.8 64-bit",
   "language": "python",
   "name": "python3"
  },
  "language_info": {
   "codemirror_mode": {
    "name": "ipython",
    "version": 3
   },
   "file_extension": ".py",
   "mimetype": "text/x-python",
   "name": "python",
   "nbconvert_exporter": "python",
   "pygments_lexer": "ipython3",
   "version": "3.10.8"
  },
  "vscode": {
   "interpreter": {
    "hash": "b5af1bebaf3fe89a7f14747957e0a3bfda0eeafce5b225da83c626a0210de519"
   }
  }
 },
 "nbformat": 4,
 "nbformat_minor": 5
}
